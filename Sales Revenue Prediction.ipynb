{
 "cells": [
  {
   "cell_type": "code",
   "execution_count": 2,
   "id": "5623b804",
   "metadata": {},
   "outputs": [],
   "source": [
    "import numpy as np\n",
    "import pandas as pd\n",
    "import seaborn as sns\n",
    "from scipy.stats import skew\n",
    "%matplotlib inline\n",
    "import matplotlib.pyplot as plt\n",
    "plt.style.use(\"ggplot\")\n",
    "plt.rcParams['figure.figsize'] = (12, 8)"
   ]
  },
  {
   "cell_type": "markdown",
   "id": "938845be",
   "metadata": {},
   "source": [
    "### Importing data"
   ]
  },
  {
   "cell_type": "code",
   "execution_count": 3,
   "id": "e040d4bd",
   "metadata": {},
   "outputs": [
    {
     "data": {
      "text/html": [
       "<div>\n",
       "<style scoped>\n",
       "    .dataframe tbody tr th:only-of-type {\n",
       "        vertical-align: middle;\n",
       "    }\n",
       "\n",
       "    .dataframe tbody tr th {\n",
       "        vertical-align: top;\n",
       "    }\n",
       "\n",
       "    .dataframe thead th {\n",
       "        text-align: right;\n",
       "    }\n",
       "</style>\n",
       "<table border=\"1\" class=\"dataframe\">\n",
       "  <thead>\n",
       "    <tr style=\"text-align: right;\">\n",
       "      <th></th>\n",
       "      <th>Unnamed: 0</th>\n",
       "      <th>TV</th>\n",
       "      <th>radio</th>\n",
       "      <th>newspaper</th>\n",
       "      <th>sales</th>\n",
       "    </tr>\n",
       "  </thead>\n",
       "  <tbody>\n",
       "    <tr>\n",
       "      <th>0</th>\n",
       "      <td>1</td>\n",
       "      <td>230.1</td>\n",
       "      <td>37.8</td>\n",
       "      <td>69.2</td>\n",
       "      <td>22.1</td>\n",
       "    </tr>\n",
       "    <tr>\n",
       "      <th>1</th>\n",
       "      <td>2</td>\n",
       "      <td>44.5</td>\n",
       "      <td>39.3</td>\n",
       "      <td>45.1</td>\n",
       "      <td>10.4</td>\n",
       "    </tr>\n",
       "    <tr>\n",
       "      <th>2</th>\n",
       "      <td>3</td>\n",
       "      <td>17.2</td>\n",
       "      <td>45.9</td>\n",
       "      <td>69.3</td>\n",
       "      <td>9.3</td>\n",
       "    </tr>\n",
       "    <tr>\n",
       "      <th>3</th>\n",
       "      <td>4</td>\n",
       "      <td>151.5</td>\n",
       "      <td>41.3</td>\n",
       "      <td>58.5</td>\n",
       "      <td>18.5</td>\n",
       "    </tr>\n",
       "    <tr>\n",
       "      <th>4</th>\n",
       "      <td>5</td>\n",
       "      <td>180.8</td>\n",
       "      <td>10.8</td>\n",
       "      <td>58.4</td>\n",
       "      <td>12.9</td>\n",
       "    </tr>\n",
       "  </tbody>\n",
       "</table>\n",
       "</div>"
      ],
      "text/plain": [
       "   Unnamed: 0     TV  radio  newspaper  sales\n",
       "0           1  230.1   37.8       69.2   22.1\n",
       "1           2   44.5   39.3       45.1   10.4\n",
       "2           3   17.2   45.9       69.3    9.3\n",
       "3           4  151.5   41.3       58.5   18.5\n",
       "4           5  180.8   10.8       58.4   12.9"
      ]
     },
     "execution_count": 3,
     "metadata": {},
     "output_type": "execute_result"
    }
   ],
   "source": [
    "advert_data = pd.read_csv(\"Downloads/Advertising.csv\")\n",
    "advert_data.head()"
   ]
  },
  {
   "cell_type": "code",
   "execution_count": 4,
   "id": "020f524d",
   "metadata": {},
   "outputs": [
    {
     "name": "stdout",
     "output_type": "stream",
     "text": [
      "<class 'pandas.core.frame.DataFrame'>\n",
      "RangeIndex: 200 entries, 0 to 199\n",
      "Data columns (total 5 columns):\n",
      " #   Column      Non-Null Count  Dtype  \n",
      "---  ------      --------------  -----  \n",
      " 0   Unnamed: 0  200 non-null    int64  \n",
      " 1   TV          200 non-null    float64\n",
      " 2   radio       200 non-null    float64\n",
      " 3   newspaper   200 non-null    float64\n",
      " 4   sales       200 non-null    float64\n",
      "dtypes: float64(4), int64(1)\n",
      "memory usage: 7.9 KB\n"
     ]
    }
   ],
   "source": [
    "advert_data.info()"
   ]
  },
  {
   "cell_type": "code",
   "execution_count": 5,
   "id": "df2b0050",
   "metadata": {},
   "outputs": [],
   "source": [
    "advert_data.drop(['Unnamed: 0'], axis=1, inplace=True)"
   ]
  },
  {
   "cell_type": "code",
   "execution_count": 6,
   "id": "636aece7",
   "metadata": {},
   "outputs": [
    {
     "data": {
      "text/plain": [
       "<seaborn.axisgrid.PairGrid at 0x1ea0904ea30>"
      ]
     },
     "execution_count": 6,
     "metadata": {},
     "output_type": "execute_result"
    },
    {
     "data": {
      "image/png": "[encoded data removed]",
      "text/plain": [
       "<Figure size 1058.4x504 with 3 Axes>"
      ]
     },
     "metadata": {},
     "output_type": "display_data"
    }
   ],
   "source": [
    "sns.pairplot(advert_data, x_vars=['TV', 'radio', 'newspaper'],\n",
    "             y_vars='sales', height=7, aspect=0.7)"
   ]
  },
  {
   "cell_type": "code",
   "execution_count": 7,
   "id": "cf61bbea",
   "metadata": {},
   "outputs": [
    {
     "data": {
      "text/plain": [
       "<AxesSubplot:>"
      ]
     },
     "execution_count": 7,
     "metadata": {},
     "output_type": "execute_result"
    },
    {
     "data": {
      "image/png": "[encoded data removed]",
      "text/plain": [
       "<Figure size 864x576 with 2 Axes>"
      ]
     },
     "metadata": {},
     "output_type": "display_data"
    }
   ],
   "source": [
    "sns.heatmap(advert_data.corr(), annot=True)"
   ]
  },
  {
   "cell_type": "markdown",
   "id": "bdfd368f",
   "metadata": {},
   "source": [
    "### Features Selection"
   ]
  },
  {
   "cell_type": "code",
   "execution_count": 8,
   "id": "9926b734",
   "metadata": {},
   "outputs": [],
   "source": [
    "from sklearn.metrics import r2_score\n",
    "from sklearn.linear_model import LinearRegression\n",
    "\n",
    "X = advert_data[['TV', 'radio', 'newspaper']]\n",
    "y = advert_data.sales"
   ]
  },
  {
   "cell_type": "code",
   "execution_count": 9,
   "id": "f5361513",
   "metadata": {},
   "outputs": [
    {
     "name": "stdout",
     "output_type": "stream",
     "text": [
      "R^2:  0.6458354938293271\n"
     ]
    }
   ],
   "source": [
    "model1 = LinearRegression().fit(X[['TV', 'newspaper']], y)\n",
    "model1_preds = model1.predict(X[['TV', 'newspaper']])\n",
    "\n",
    "print(\"R^2: \", r2_score(y, model1_preds))"
   ]
  },
  {
   "cell_type": "code",
   "execution_count": 10,
   "id": "2b01d72f",
   "metadata": {},
   "outputs": [
    {
     "name": "stdout",
     "output_type": "stream",
     "text": [
      "R^2:  0.8971942610828956\n"
     ]
    }
   ],
   "source": [
    "model2 = LinearRegression().fit(X[['TV', 'radio']], y)\n",
    "model2_preds = model2.predict(X[['TV', 'radio']])\n",
    "\n",
    "print(\"R^2: \", r2_score(y, model2_preds))"
   ]
  },
  {
   "cell_type": "code",
   "execution_count": 11,
   "id": "9d2089df",
   "metadata": {},
   "outputs": [
    {
     "name": "stdout",
     "output_type": "stream",
     "text": [
      "R^2:  0.8972106381789522\n"
     ]
    }
   ],
   "source": [
    "model3 = LinearRegression().fit(X[['TV', 'radio', 'newspaper']], y)\n",
    "model3_preds = model3.predict(X[['TV', 'radio', 'newspaper']])\n",
    "\n",
    "print(\"R^2: \", r2_score(y, model3_preds))"
   ]
  },
  {
   "cell_type": "markdown",
   "id": "58546f14",
   "metadata": {},
   "source": [
    "No effect of using newspaper feature on the R^2 value, so we can drop it."
   ]
  },
  {
   "cell_type": "markdown",
   "id": "078aa642",
   "metadata": {},
   "source": [
    "#### Using different models like linear regression, decision tree, random forest  and XGBoost  to increase R^2 value"
   ]
  },
  {
   "cell_type": "code",
   "execution_count": 12,
   "id": "b364eb23",
   "metadata": {},
   "outputs": [
    {
     "name": "stdout",
     "output_type": "stream",
     "text": [
      "RMSE:  1.404651423032895\n",
      "R^2:  0.9156213613792232\n"
     ]
    }
   ],
   "source": [
    "from sklearn.model_selection import train_test_split\n",
    "from sklearn.metrics import mean_squared_error\n",
    "\n",
    "X = advert_data[['TV', 'radio', 'newspaper']]\n",
    "y = advert_data.sales\n",
    "\n",
    "X_train, X_test, y_train, y_test = train_test_split(X, y, random_state=1)\n",
    "LR = LinearRegression().fit(X_train, y_train)\n",
    "LR_preds = LR.predict(X_test)\n",
    "\n",
    "print(\"RMSE: \", np.sqrt(mean_squared_error(y_test, LR_preds)))\n",
    "print(\"R^2: \", r2_score(y_test, LR_preds))"
   ]
  },
  {
   "cell_type": "markdown",
   "id": "fbecec7c",
   "metadata": {},
   "source": [
    "what if we drop the newspaper feature?"
   ]
  },
  {
   "cell_type": "code",
   "execution_count": 13,
   "id": "f371d2e9",
   "metadata": {},
   "outputs": [
    {
     "name": "stdout",
     "output_type": "stream",
     "text": [
      "RMSE:  1.3879034699382886\n",
      "R^2:  0.9176214942248908\n"
     ]
    }
   ],
   "source": [
    "X = advert_data[['TV', 'radio']]\n",
    "y = advert_data.sales\n",
    "\n",
    "X_train, X_test, y_train, y_test = train_test_split(X, y, random_state=1)\n",
    "LR2 = LinearRegression().fit(X_train, y_train)\n",
    "LR2_preds = LR2.predict(X_test)\n",
    "\n",
    "print(\"RMSE: \", np.sqrt(mean_squared_error(y_test, LR2_preds)))\n",
    "print(\"R^2: \", r2_score(y_test, LR2_preds))"
   ]
  },
  {
   "cell_type": "code",
   "execution_count": 14,
   "id": "aa4a1f7c",
   "metadata": {},
   "outputs": [
    {
     "name": "stdout",
     "output_type": "stream",
     "text": [
      "RMSE:  0.7794870107962033\n",
      "R^2:  0.9740155725238372\n"
     ]
    }
   ],
   "source": [
    "from sklearn import tree\n",
    "from sklearn.tree import DecisionTreeRegressor \n",
    "\n",
    "DTR = DecisionTreeRegressor().fit(X_train, y_train)\n",
    "DTR_preds = DTR.predict(X_test)\n",
    "\n",
    "print(\"RMSE: \", np.sqrt(mean_squared_error(y_test, DTR_preds)))\n",
    "print(\"R^2: \", r2_score(y_test, DTR_preds))"
   ]
  },
  {
   "cell_type": "markdown",
   "id": "e2ed7bd0",
   "metadata": {},
   "source": [
    "So the performance of model improved with the use of decision tree"
   ]
  },
  {
   "cell_type": "code",
   "execution_count": 15,
   "id": "d91801ad",
   "metadata": {},
   "outputs": [
    {
     "name": "stdout",
     "output_type": "stream",
     "text": [
      "RMSE:  0.4992653202456568\n",
      "R^2:  0.9893399758698925\n"
     ]
    }
   ],
   "source": [
    "from sklearn.ensemble import RandomForestRegressor\n",
    "\n",
    "RFR = RandomForestRegressor(n_estimators = 100, random_state = 0).fit(X_train, y_train)\n",
    "RFR_preds = RFR.predict(X_test)\n",
    "\n",
    "print(\"RMSE: \", np.sqrt(mean_squared_error(y_test, RFR_preds)))\n",
    "print(\"R^2: \", r2_score(y_test, RFR_preds))"
   ]
  },
  {
   "cell_type": "markdown",
   "id": "0f55cc97",
   "metadata": {},
   "source": [
    "Random Forest algorithm performed better than the decision tree algorithm"
   ]
  },
  {
   "cell_type": "code",
   "execution_count": 16,
   "id": "173e80d3",
   "metadata": {},
   "outputs": [
    {
     "name": "stdout",
     "output_type": "stream",
     "text": [
      "RMSE:  0.6216156176072869\n",
      "R^2:  0.9834750854820399\n"
     ]
    }
   ],
   "source": [
    "import xgboost as xgb\n",
    "model = xgb.XGBRegressor()\n",
    "XGB = model.fit(X_train, y_train)\n",
    "XGB_preds = XGB.predict(X_test)\n",
    "\n",
    "print(\"RMSE: \", np.sqrt(mean_squared_error(y_test, XGB_preds)))\n",
    "print(\"R^2: \", r2_score(y_test, XGB_preds))"
   ]
  },
  {
   "cell_type": "markdown",
   "id": "79db23e2",
   "metadata": {},
   "source": [
    "#### So the best model to predict sales is Random Forest."
   ]
  },
  {
   "cell_type": "code",
   "execution_count": null,
   "id": "8cea4265",
   "metadata": {},
   "outputs": [],
   "source": []
  }
 ],
 "metadata": {
  "kernelspec": {
   "display_name": "Python 3 (ipykernel)",
   "language": "python",
   "name": "python3"
  },
  "language_info": {
   "codemirror_mode": {
    "name": "ipython",
    "version": 3
   },
   "file_extension": ".py",
   "mimetype": "text/x-python",
   "name": "python",
   "nbconvert_exporter": "python",
   "pygments_lexer": "ipython3",
   "version": "3.9.7"
  }
 },
 "nbformat": 4,
 "nbformat_minor": 5
}
